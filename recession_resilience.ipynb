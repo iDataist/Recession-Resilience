{
 "cells": [
  {
   "cell_type": "markdown",
   "metadata": {},
   "source": [
    "# Recession Resilience\n",
    "\n",
    "This project examined whether university towns have their mean housing prices less effected by recessions. The raw date are stored in three different files. \n",
    "\n",
    "* From the [Zillow research data site](http://www.zillow.com/research/data/) there is housing data for the United States. In particular the datafile for [all homes at a city level](http://files.zillowstatic.com/research/public/City/City_Zhvi_AllHomes.csv), ```City_Zhvi_AllHomes.csv```, has median home sale prices at a fine grained level.\n",
    "* From the Wikipedia page on college towns is a list of [university towns in the United States](https://en.wikipedia.org/wiki/List_of_college_towns#College_towns_in_the_United_States) which has been copy and pasted into the file ```university_towns.txt```.\n",
    "* From Bureau of Economic Analysis, US Department of Commerce, the [GDP over time](http://www.bea.gov/national/index.htm#gdp) of the United States in quarterly intervals is in the file ```gdplev.xls```. "
   ]
  },
  {
   "cell_type": "code",
   "execution_count": 187,
   "metadata": {},
   "outputs": [],
   "source": [
    "import pandas as pd\n",
    "import numpy as np\n",
    "from scipy.stats import ttest_ind"
   ]
  },
  {
   "cell_type": "code",
   "execution_count": 188,
   "metadata": {},
   "outputs": [],
   "source": [
    "states = {'OH': 'Ohio', 'KY': 'Kentucky', 'AS': 'American Samoa', 'NV': 'Nevada', 'WY': 'Wyoming', 'NA': 'National', 'AL': 'Alabama', 'MD': 'Maryland', 'AK': 'Alaska', 'UT': 'Utah', 'OR': 'Oregon', 'MT': 'Montana', 'IL': 'Illinois', 'TN': 'Tennessee', 'DC': 'District of Columbia', 'VT': 'Vermont', 'ID': 'Idaho', 'AR': 'Arkansas', 'ME': 'Maine', 'WA': 'Washington', 'HI': 'Hawaii', 'WI': 'Wisconsin', 'MI': 'Michigan', 'IN': 'Indiana', 'NJ': 'New Jersey', 'AZ': 'Arizona', 'GU': 'Guam', 'MS': 'Mississippi', 'PR': 'Puerto Rico', 'NC': 'North Carolina', 'TX': 'Texas', 'SD': 'South Dakota', 'MP': 'Northern Mariana Islands', 'IA': 'Iowa', 'MO': 'Missouri', 'CT': 'Connecticut', 'WV': 'West Virginia', 'SC': 'South Carolina', 'LA': 'Louisiana', 'KS': 'Kansas', 'NY': 'New York', 'NE': 'Nebraska', 'OK': 'Oklahoma', 'FL': 'Florida', 'CA': 'California', 'CO': 'Colorado', 'PA': 'Pennsylvania', 'DE': 'Delaware', 'NM': 'New Mexico', 'RI': 'Rhode Island', 'MN': 'Minnesota', 'VI': 'Virgin Islands', 'NH': 'New Hampshire', 'MA': 'Massachusetts', 'GA': 'Georgia', 'ND': 'North Dakota', 'VA': 'Virginia'}"
   ]
  },
  {
   "cell_type": "code",
   "execution_count": 191,
   "metadata": {},
   "outputs": [
    {
     "data": {
      "text/html": [
       "<div>\n",
       "<style scoped>\n",
       "    .dataframe tbody tr th:only-of-type {\n",
       "        vertical-align: middle;\n",
       "    }\n",
       "\n",
       "    .dataframe tbody tr th {\n",
       "        vertical-align: top;\n",
       "    }\n",
       "\n",
       "    .dataframe thead th {\n",
       "        text-align: right;\n",
       "    }\n",
       "</style>\n",
       "<table border=\"1\" class=\"dataframe\">\n",
       "  <thead>\n",
       "    <tr style=\"text-align: right;\">\n",
       "      <th></th>\n",
       "      <th>State</th>\n",
       "      <th>RegionName</th>\n",
       "      <th>UniversityTowns</th>\n",
       "    </tr>\n",
       "  </thead>\n",
       "  <tbody>\n",
       "    <tr>\n",
       "      <th>0</th>\n",
       "      <td>Alabama</td>\n",
       "      <td>Auburn</td>\n",
       "      <td>1</td>\n",
       "    </tr>\n",
       "    <tr>\n",
       "      <th>1</th>\n",
       "      <td>Alabama</td>\n",
       "      <td>Florence</td>\n",
       "      <td>1</td>\n",
       "    </tr>\n",
       "    <tr>\n",
       "      <th>2</th>\n",
       "      <td>Alabama</td>\n",
       "      <td>Jacksonville</td>\n",
       "      <td>1</td>\n",
       "    </tr>\n",
       "    <tr>\n",
       "      <th>3</th>\n",
       "      <td>Alabama</td>\n",
       "      <td>Livingston</td>\n",
       "      <td>1</td>\n",
       "    </tr>\n",
       "    <tr>\n",
       "      <th>4</th>\n",
       "      <td>Alabama</td>\n",
       "      <td>Montevallo</td>\n",
       "      <td>1</td>\n",
       "    </tr>\n",
       "  </tbody>\n",
       "</table>\n",
       "</div>"
      ],
      "text/plain": [
       "     State    RegionName  UniversityTowns\n",
       "0  Alabama        Auburn                1\n",
       "1  Alabama      Florence                1\n",
       "2  Alabama  Jacksonville                1\n",
       "3  Alabama    Livingston                1\n",
       "4  Alabama    Montevallo                1"
      ]
     },
     "execution_count": 191,
     "metadata": {},
     "output_type": "execute_result"
    }
   ],
   "source": [
    "def get_list_of_university_towns():\n",
    "    '''Returns a DataFrame of towns and the states they are in from the \n",
    "    university_towns.txt list. \n",
    "    \n",
    "    The following cleaning needs to be done:\n",
    "\n",
    "    1. For \"State\", removing characters from \"[\" to the end.\n",
    "    2. For \"RegionName\", when applicable, removing every character from \" (\" to the end.'''\n",
    "\n",
    "    university_towns = []\n",
    "    with open('university_towns.txt','r') as file:\n",
    "        for line in file:\n",
    "            if line.strip().endswith('[edit]'):\n",
    "                state = line.split('[')[0]\n",
    "            else:\n",
    "                university_towns.append([state, line.split(' (')[0]])\n",
    "    university_towns_df = pd.DataFrame(university_towns, columns = [\"State\", \"RegionName\"])\n",
    "    university_towns_df['UniversityTowns'] = 1\n",
    "    return university_towns_df\n",
    "get_list_of_university_towns().head()"
   ]
  },
  {
   "cell_type": "code",
   "execution_count": 192,
   "metadata": {},
   "outputs": [
    {
     "data": {
      "text/html": [
       "<div>\n",
       "<style scoped>\n",
       "    .dataframe tbody tr th:only-of-type {\n",
       "        vertical-align: middle;\n",
       "    }\n",
       "\n",
       "    .dataframe tbody tr th {\n",
       "        vertical-align: top;\n",
       "    }\n",
       "\n",
       "    .dataframe thead th {\n",
       "        text-align: right;\n",
       "    }\n",
       "</style>\n",
       "<table border=\"1\" class=\"dataframe\">\n",
       "  <thead>\n",
       "    <tr style=\"text-align: right;\">\n",
       "      <th></th>\n",
       "      <th>GDP</th>\n",
       "      <th>Change</th>\n",
       "    </tr>\n",
       "    <tr>\n",
       "      <th>Quarter</th>\n",
       "      <th></th>\n",
       "      <th></th>\n",
       "    </tr>\n",
       "  </thead>\n",
       "  <tbody>\n",
       "    <tr>\n",
       "      <th>2000q1</th>\n",
       "      <td>12359.1</td>\n",
       "      <td>NaN</td>\n",
       "    </tr>\n",
       "    <tr>\n",
       "      <th>2000q2</th>\n",
       "      <td>12592.5</td>\n",
       "      <td>233.4</td>\n",
       "    </tr>\n",
       "    <tr>\n",
       "      <th>2000q3</th>\n",
       "      <td>12607.7</td>\n",
       "      <td>15.2</td>\n",
       "    </tr>\n",
       "    <tr>\n",
       "      <th>2000q4</th>\n",
       "      <td>12679.3</td>\n",
       "      <td>71.6</td>\n",
       "    </tr>\n",
       "    <tr>\n",
       "      <th>2001q1</th>\n",
       "      <td>12643.3</td>\n",
       "      <td>-36.0</td>\n",
       "    </tr>\n",
       "  </tbody>\n",
       "</table>\n",
       "</div>"
      ],
      "text/plain": [
       "             GDP  Change\n",
       "Quarter                 \n",
       "2000q1   12359.1     NaN\n",
       "2000q2   12592.5   233.4\n",
       "2000q3   12607.7    15.2\n",
       "2000q4   12679.3    71.6\n",
       "2001q1   12643.3   -36.0"
      ]
     },
     "execution_count": 192,
     "metadata": {},
     "output_type": "execute_result"
    }
   ],
   "source": [
    "# Load the GDP data and calculate the GDP change from quarter to quarter\n",
    "gdp = pd.read_excel('gdplev.xls',skiprows = 5)[214:280][['Unnamed: 4', 'GDP in billions of chained 2009 dollars.1']] \\\n",
    "    .rename(columns = {'Unnamed: 4':'Quarter', 'GDP in billions of chained 2009 dollars.1':'GDP'}) \\\n",
    "    .set_index('Quarter')\n",
    "gdp['Change'] = gdp['GDP'].diff()\n",
    "gdp.head()"
   ]
  },
  {
   "cell_type": "markdown",
   "metadata": {},
   "source": [
    "Definitions:\n",
    "* A _recession_ is defined as starting with two consecutive quarters of GDP decline, and ending with two consecutive quarters of GDP growth.\n",
    "* A _recession bottom_ is the quarter within a recession which had the lowest GDP."
   ]
  },
  {
   "cell_type": "code",
   "execution_count": 83,
   "metadata": {},
   "outputs": [
    {
     "data": {
      "text/plain": [
       "'2008q3'"
      ]
     },
     "execution_count": 83,
     "metadata": {},
     "output_type": "execute_result"
    }
   ],
   "source": [
    "def get_recession_start():\n",
    "    '''Returns the year and quarter of the recession start time '''\n",
    "    for i in range(len(gdp)-1):\n",
    "        if (gdp.iloc[i]['Change'] < 0) & (gdp.iloc[i+1]['Change'] < 0):\n",
    "            return gdp.iloc[i].name\n",
    "get_recession_start()"
   ]
  },
  {
   "cell_type": "code",
   "execution_count": 84,
   "metadata": {},
   "outputs": [
    {
     "data": {
      "text/plain": [
       "'2009q4'"
      ]
     },
     "execution_count": 84,
     "metadata": {},
     "output_type": "execute_result"
    }
   ],
   "source": [
    "def get_recession_end():\n",
    "    '''Returns the year and quarter of the recession end time '''\n",
    "    \n",
    "    for i in range(1,len(gdp)):\n",
    "        if (gdp.iloc[i].name > get_recession_start()) \\\n",
    "            & (gdp.iloc[i-1]['Change'] > 0) \\\n",
    "            & (gdp.iloc[i]['Change'] > 0):\n",
    "            return gdp.iloc[i].name     \n",
    "get_recession_end()"
   ]
  },
  {
   "cell_type": "code",
   "execution_count": 93,
   "metadata": {},
   "outputs": [
    {
     "data": {
      "text/plain": [
       "'2009q2'"
      ]
     },
     "execution_count": 93,
     "metadata": {},
     "output_type": "execute_result"
    }
   ],
   "source": [
    "def get_recession_bottom():\n",
    "    '''Returns the year and quarter of the recession bottom time '''\n",
    "    return gdp['GDP'].loc[get_recession_start():get_recession_end()].idxmin()\n",
    "get_recession_bottom()"
   ]
  },
  {
   "cell_type": "code",
   "execution_count": 200,
   "metadata": {},
   "outputs": [
    {
     "data": {
      "text/plain": [
       "Index(['2000-01', '2000-02', '2000-03', '2000-04', '2000-05', '2000-06',\n",
       "       '2000-07', '2000-08', '2000-09', '2000-10',\n",
       "       ...\n",
       "       '2015-11', '2015-12', '2016-01', '2016-02', '2016-03', '2016-04',\n",
       "       '2016-05', '2016-06', '2016-07', '2016-08'],\n",
       "      dtype='object', length=200)"
      ]
     },
     "execution_count": 200,
     "metadata": {},
     "output_type": "execute_result"
    }
   ],
   "source": [
    "# Load the housing data \n",
    "house = pd.read_csv('City_Zhvi_AllHomes.csv') \\\n",
    "        .drop(['RegionID', 'Metro', 'CountyName', 'SizeRank'], axis = 1) \n",
    "house['State'] = house['State'].apply(lambda x: states[x])\n",
    "house = house.set_index(['State','RegionName']) \\\n",
    "            .loc[:,'2000-01':] \n",
    "house.columns"
   ]
  },
  {
   "cell_type": "code",
   "execution_count": 199,
   "metadata": {},
   "outputs": [
    {
     "data": {
      "text/plain": [
       "PeriodIndex(['2000Q1', '2000Q2', '2000Q3', '2000Q4', '2001Q1', '2001Q2',\n",
       "             '2001Q3', '2001Q4', '2002Q1', '2002Q2', '2002Q3', '2002Q4',\n",
       "             '2003Q1', '2003Q2', '2003Q3', '2003Q4', '2004Q1', '2004Q2',\n",
       "             '2004Q3', '2004Q4', '2005Q1', '2005Q2', '2005Q3', '2005Q4',\n",
       "             '2006Q1', '2006Q2', '2006Q3', '2006Q4', '2007Q1', '2007Q2',\n",
       "             '2007Q3', '2007Q4', '2008Q1', '2008Q2', '2008Q3', '2008Q4',\n",
       "             '2009Q1', '2009Q2', '2009Q3', '2009Q4', '2010Q1', '2010Q2',\n",
       "             '2010Q3', '2010Q4', '2011Q1', '2011Q2', '2011Q3', '2011Q4',\n",
       "             '2012Q1', '2012Q2', '2012Q3', '2012Q4', '2013Q1', '2013Q2',\n",
       "             '2013Q3', '2013Q4', '2014Q1', '2014Q2', '2014Q3', '2014Q4',\n",
       "             '2015Q1', '2015Q2', '2015Q3', '2015Q4', '2016Q1', '2016Q2',\n",
       "             '2016Q3'],\n",
       "            dtype='period[Q-DEC]', freq='Q-DEC')"
      ]
     },
     "execution_count": 199,
     "metadata": {},
     "output_type": "execute_result"
    }
   ],
   "source": [
    "def convert_housing_data_to_quarters():\n",
    "    '''Converts the housing data to quarters and returns it as mean \n",
    "    values in a dataframe. '''\n",
    "    housing_data_to_quarters = house.groupby(pd.PeriodIndex(house.columns,freq = 'q'), axis =1).mean()\n",
    "    return housing_data_to_quarters\n",
    "convert_housing_data_to_quarters().columns"
   ]
  },
  {
   "cell_type": "code",
   "execution_count": 190,
   "metadata": {},
   "outputs": [
    {
     "data": {
      "text/plain": [
       "(True, 0.008975587540712617, 'university town')"
      ]
     },
     "execution_count": 190,
     "metadata": {},
     "output_type": "execute_result"
    }
   ],
   "source": [
    "def run_ttest():\n",
    "    '''Create new data showing the decline or growth of housing prices\n",
    "    between the recession start and the recession bottom. Then run a ttest\n",
    "    comparing the university town values to the non-university towns values, \n",
    "    return whether the alternative hypothesis (that the two groups are the same)\n",
    "    is true or not as well as the p-value of the confidence. \n",
    "    \n",
    "    Return the tuple (different, p, better) where different=True if the t-test is\n",
    "    True at a p<0.01 (we reject the null hypothesis), or different=False if \n",
    "    otherwise (we cannot reject the null hypothesis). The value for better is \n",
    "    \"university town\" or \"non-university town\" depending on which has a lower \n",
    "    mean price ratio.'''\n",
    "    start = get_recession_start().upper()\n",
    "    end = get_recession_bottom().upper()\n",
    "    housing_data = convert_housing_data_to_quarters()\n",
    "    university_towns_df = get_list_of_university_towns()\n",
    "    \n",
    "    housing_price_change = (housing_data[end]-housing_data[start])/housing_data[start]\n",
    "    housing_price_change_df = pd.DataFrame(housing_price_change, columns = ['HousingPriceChange']) \\\n",
    "                                .reset_index() \\\n",
    "                                .dropna()\n",
    "\n",
    "    merge = pd.merge(housing_price_change_df, university_towns_df, how = 'left', left_on = ['State','RegionName'], right_on = ['State','RegionName']) \n",
    "    university_town = merge[merge['UniversityTowns'] == 1.0]['HousingPriceChange']\n",
    "    non_university_town = merge[merge['UniversityTowns'] != 1.0]['HousingPriceChange']\n",
    "    \n",
    "    t,p = ttest_ind(university_town, non_university_town)\n",
    "    better = 'university town' if university_town.mean() > non_university_town.mean() else 'non-university town'                \n",
    "    return (p<0.01, p, better)\n",
    "run_ttest()"
   ]
  }
 ],
 "metadata": {
  "coursera": {
   "course_slug": "python-data-analysis",
   "graded_item_id": "Il9Fx",
   "launcher_item_id": "TeDW0",
   "part_id": "WGlun"
  },
  "kernelspec": {
   "display_name": "Python 3",
   "language": "python",
   "name": "python3"
  },
  "language_info": {
   "codemirror_mode": {
    "name": "ipython",
    "version": 3
   },
   "file_extension": ".py",
   "mimetype": "text/x-python",
   "name": "python",
   "nbconvert_exporter": "python",
   "pygments_lexer": "ipython3",
   "version": "3.7.1"
  }
 },
 "nbformat": 4,
 "nbformat_minor": 1
}
